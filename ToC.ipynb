{
 "cells": [
  {
   "cell_type": "code",
   "execution_count": 1,
   "id": "dda6d6f5-c43f-4097-a0cc-5353ba478ce5",
   "metadata": {},
   "outputs": [],
   "source": [
    "import numpy as np\n",
    "import io"
   ]
  },
  {
   "cell_type": "code",
   "execution_count": 27,
   "id": "8839dc04-17e4-46e7-8a50-6f87fdadc947",
   "metadata": {},
   "outputs": [],
   "source": [
    "#read txt method one\n",
    "\n",
    "f = open(\"./atomic physics.txt\",mode='r',encoding='utf-8')\n",
    "lines = f.readlines()\n",
    "fw = open(\"./modified atomic physics.txt\",mode='w',encoding='utf-8')\n",
    "\n",
    "for line in lines:\n",
    "    for i in range(1, len(line)):\n",
    "#         print(line)\n",
    "        if line[-i] == ' ':\n",
    "            add_line = line[:-i] + ' @' + line[-i+1:]\n",
    "            break\n",
    "    fw.write(add_line)\n",
    "fw.close()"
   ]
  },
  {
   "cell_type": "code",
   "execution_count": null,
   "id": "c7160f5f-d3c6-4580-9b2a-982dde011373",
   "metadata": {},
   "outputs": [],
   "source": []
  }
 ],
 "metadata": {
  "kernelspec": {
   "display_name": "Python 3",
   "language": "python",
   "name": "python3"
  },
  "language_info": {
   "codemirror_mode": {
    "name": "ipython",
    "version": 3
   },
   "file_extension": ".py",
   "mimetype": "text/x-python",
   "name": "python",
   "nbconvert_exporter": "python",
   "pygments_lexer": "ipython3",
   "version": "3.8.8"
  }
 },
 "nbformat": 4,
 "nbformat_minor": 5
}
